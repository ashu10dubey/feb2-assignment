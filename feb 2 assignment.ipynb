{
 "cells": [
  {
   "cell_type": "code",
   "execution_count": null,
   "id": "dfbea208-0bb1-49b1-920a-f7706c9cfc75",
   "metadata": {},
   "outputs": [],
   "source": [
    "Q1.What are the characteristics of the tuples? Is tuple immutable?\n",
    "Ans:\n",
    "A tuple is a collection of ordered, immutable, and heterogeneous elements, typically referred to as items or elements, which can be of any type, including other tuples.\n",
    "\n",
    "Tuples are similar to lists, but there are some key differences between the two. Here are some of the main characteristics of tuples:\n",
    "\n",
    "Immutability: Once a tuple is created, its elements cannot be changed, added, or removed. This makes tuples more memory efficient and secure than lists, as they cannot be accidentally modified.\n",
    "\n",
    "Order: The elements in a tuple are ordered, meaning that their position in the tuple is significant.\n",
    "\n",
    "Heterogeneous elements: Tuples can contain elements of different data types, including other tuples.\n",
    "\n",
    "Accessing elements: Elements of a tuple can be accessed using an index, just like in a list.\n",
    "\n",
    "Named tuples: Tuples can also be given names, making them easier to read and use.\n",
    "\n",
    "So, yes, a tuple is immutable\n",
    "    "
   ]
  },
  {
   "cell_type": "code",
   "execution_count": 4,
   "id": "774f0d92-6c08-4551-8e97-c4e52e168de3",
   "metadata": {},
   "outputs": [
    {
     "data": {
      "text/plain": [
       "2"
      ]
     },
     "execution_count": 4,
     "metadata": {},
     "output_type": "execute_result"
    }
   ],
   "source": [
    "# Q2.What are the two tuple methods in python? Give an example of each method. Give a reason why tuples have only two in-built methods as compared to Lists.\n",
    "#count(): This method returns the number of occurrences of a given element in a tuple.\n",
    "#Example:\n",
    "my_tuple = (1, 2, 3, 4, 1, 2)\n",
    "my_tuple.count(1)\n",
    "#index(): This method returns the index of the first occurrence of a given element in a tuple.\n",
    "my_tuple = (1, 2, 3, 4, 1, 2)\n",
    "my_tuple.index(3)\n",
    "#Tuples have only two in-built methods because tuples are immutable, which means their elements cannot be changed. As a result, there is less need for operations that modify the tuple. Instead, the focus is on accessing and searching the elements in the tuple, which can be done using the count and index methods. In comparison, lists are mutable, and therefore have more methods that allow you to add, remove, or modify elements in the list.\n"
   ]
  },
  {
   "cell_type": "code",
   "execution_count": 2,
   "id": "505d2a3c-6320-4630-b9c7-4049f0ed3f59",
   "metadata": {},
   "outputs": [
    {
     "name": "stdout",
     "output_type": "stream",
     "text": [
      "[1, 2, 3, 4, 5]\n"
     ]
    }
   ],
   "source": [
    "#Q3. Which collection datatypes in python do not allow duplicate items? Write a code using a set to remove duplicates from the given list.\n",
    "#In Python, sets are a collection data type that does not allow duplicate items. A set is a collection of unique, unordered elements.\n",
    "\n",
    "#Here's an example of how you can use a set to remove duplicates from a list:\n",
    "# Creating a list with duplicate items\n",
    "my_list = [1, 2, 3, 4, 1, 2, 5]\n",
    "\n",
    "# Converting the list to a set\n",
    "my_set = set(my_list)\n",
    "\n",
    "# Converting the set back to a list\n",
    "my_list = list(my_set)\n",
    "\n",
    "# The list now contains only unique items\n",
    "print(my_list)\n",
    "# Output: [1, 2, 3, 4, 5]\n",
    "\n",
    "#In this example, we first created a list with duplicate items, then converted it to a set using the set() function. The set automatically removes any duplicate items, leaving us with a collection of unique items. Finally, we converted the set back to a list using the list() function, and printed the result, which is a list containing only unique items."
   ]
  },
  {
   "cell_type": "code",
   "execution_count": null,
   "id": "881c472e-407c-480d-a9f8-47effa736c93",
   "metadata": {},
   "outputs": [],
   "source": [
    "Q#4.Explain the difference between the union() and update() methods for a set. Give an example of each method.\n",
    "In Python, the union() and update() methods are used to combine two or more sets into a single set. However, there is a difference between the two methods in terms of their behavior and the way they handle duplicates.\n",
    "\n",
    "union(): The union() method returns a set that contains all the elements from both the original set and the set(s) being combined. The returned set is a new set that is distinct from the original set and any other set(s) being combined. The original set is not modified by the union() method.\n",
    "Here's an example of using the union() method to combine two sets:\n",
    "set1 = {1, 2, 3}\n",
    "set2 = {3, 4, 5}\n",
    "\n",
    "# Combine the two sets using the union() method\n",
    "result = set1.union(set2)\n",
    "\n",
    "print(\"Result:\", result)  # Output: Result: {1, 2, 3, 4, 5}\n",
    "print(\"Set 1:\", set1)  # Output: Set 1: {1, 2, 3}\n",
    "print(\"Set 2:\", set2)  # Output: Set 2: {3, 4, 5}\n",
    "In this example, we use the union() method to combine the set1 and set2 sets into a single set, which is stored in the result variable. The union() method returns a set that contains all the elements from both set1 and set2, but it does not modify either of the original sets.\n",
    "update(): The update() method adds the elements from one or more sets to the original set. The original set is modified by the update() method, and duplicates are removed.\n",
    "#Here's an example of using the update() method to combine two sets:\n",
    "set1 = {1, 2, 3}\n",
    "set2 = {3, 4, 5}\n",
    "\n",
    "# Combine the two sets using the update() method\n",
    "set1.update(set2)\n",
    "\n",
    "print(\"Set 1:\", set1)  # Output: Set 1: {1, 2, 3, 4, 5}\n",
    "print(\"Set 2:\", set2)  # Output: Set 2: {3, 4, 5}\n",
    "In this example, we use the update() method to combine the set1 and set2 sets into a single set, which is stored in the set1 variable. The update() method adds the elements from set2 to set1, and removes any duplicates. Note that the set2 set remains unchanged."
   ]
  },
  {
   "cell_type": "code",
   "execution_count": null,
   "id": "06302e48-af06-48b2-a460-3c1706c225ce",
   "metadata": {},
   "outputs": [],
   "source": [
    "Q5. What is a dictionary? Give an example. Also, state whether a dictionary is ordered or unordered\n",
    "A dictionary in Python is a collection of key-value pairs, where each key is unique and maps to a specific value. Dictionaries are also known as associative arrays or hash maps in other programming languages.\n",
    "\n",
    "Here's an example of a dictionary in Python:\n",
    "my_dict = {\n",
    "    \"name\": \"John Doe\",\n",
    "    \"age\": 30,\n",
    "    \"city\": \"New York\"\n",
    "}\n",
    "\n",
    "print(my_dict[\"name\"])  # Output: John Doe\n",
    "print(my_dict[\"age\"])   # Output: 30\n",
    "print(my_dict[\"city\"])  # Output: New York\n",
    "In this example, we create a dictionary named my_dict with three key-value pairs: \"name\" maps to \"John Doe\", \"age\" maps to 30, and \"city\" maps to \"New York\". We can access the values in the dictionary using the keys, as shown in the code.\n",
    "\n",
    "Dictionaries in Python are unordered, which means that the elements in a dictionary have no inherent order. The keys in a dictionary are not stored in a particular order, and their order may change when elements are added or removed from the dictionary. If you need to maintain the order of elements in a collection, you can use a list or a tuple instead.\n"
   ]
  },
  {
   "cell_type": "code",
   "execution_count": null,
   "id": "0d586443-66ce-4e9b-bf83-4ecf59e1c48b",
   "metadata": {},
   "outputs": [],
   "source": [
    "Q6. Can we create a nested dictionary? If so, please give an example by creating a simple one-level nested dictionary.\n",
    "Yes, it is possible to create a nested dictionary in Python. A nested dictionary is a dictionary that contains another dictionary as an element. Here's an example of a simple one-level nested dictionary:\n",
    "person = {\n",
    "    \"name\": \"John Doe\",\n",
    "    \"age\": 30,\n",
    "    \"address\": {\n",
    "        \"street\": \"123 Main St.\",\n",
    "        \"city\": \"New York\",\n",
    "        \"state\": \"NY\"\n",
    "    }\n",
    "}\n",
    "\n",
    "print(person[\"address\"][\"city\"])  # Output: New York\n",
    "In this example, the person dictionary contains three key-value pairs, including one nested dictionary address, which contains its own key-value pairs. To access the values in the nested dictionary, we use multiple square brackets, with the first set of brackets referencing the key of the outer dictionary, and the second set of brackets referencing the key of the inner dictionary. In this case, we access the value of the \"city\" key in the \"address\" dictionary by using person[\"address\"][\"city\"].\n"
   ]
  },
  {
   "cell_type": "code",
   "execution_count": null,
   "id": "bb54c470-5342-4c5c-a923-5c4e544d46b3",
   "metadata": {},
   "outputs": [],
   "source": [
    "Q7.Using setdefault() method, create key named topics in the given dictionary and also add the value of the key as this list ['Python', 'Machine Learning’, 'Deep Learning']\n",
    "dict1 = {'language' : 'Python', 'course': 'Data Science Masters'}.\n",
    " The setdefault() method is used to set a value for a given key in a dictionary. If the key already exists in the dictionary, the setdefault() method returns its value. If the key does not exist, the setdefault() method adds the key to the dictionary with the specified value.\n",
    "\n",
    "Here's an example of using the setdefault() method to add a key named topics to the dict1 dictionary with the value ['Python', 'Machine Learning', 'Deep Learnin'].\n",
    " dict1 = {'language' : 'Python', 'course': 'Data Science Masters'}\n",
    "\n",
    "# Use setdefault() method to add the key 'topics' to the dictionary\n",
    "dict1.setdefault('topics', ['Python', 'Machine Learning', 'Deep Learning'])\n",
    "\n",
    "print(dict1)\n",
    "# Output: {'language': 'Python', 'course': 'Data Science Masters', 'topics': ['Python', 'Machine Learning', 'Deep Learning']}\n",
    "In this example, the setdefault() method is used to add a new key 'topics' to the dict1 dictionary with the value ['Python', 'Machine Learning', 'Deep Learning']. If the 'topics' key already exists in the dictionary, the setdefault() method would return its value without modifying the dictionary.\n",
    "                                                                                                                              "
   ]
  },
  {
   "cell_type": "code",
   "execution_count": null,
   "id": "c87fe189-0f09-4f14-a8ef-a04a1ace064a",
   "metadata": {},
   "outputs": [],
   "source": [
    "Q8. What are the three view objects in dictionaries? Use the three in-built methods in python to display\n",
    "these three view objects for the given dictionary.\n",
    "dict1 = {'Sport': 'Cricket' , 'Teams': ['India', 'Australia', 'England', 'South Africa', 'Sri Lanka', 'New Zealand']}\n",
    "The three view objects in dictionaries are:\n",
    "\n",
    "keys(): Returns a view object that displays a list of all the keys in the dictionary.\n",
    "values(): Returns a view object that displays a list of all the values in the dictionary.\n",
    "items(): Returns a view object that displays a list of all the key-value pairs (items) in the dictionary.\n",
    "Here's an example of using the three in-built methods to display the view objects for the given dictionary dict1:\n",
    "dict1 = {'Sport': 'Cricket' , 'Teams': ['India', 'Australia', 'England', 'South Africa', 'Sri Lanka', 'New Zealand']}\n",
    "\n",
    "# Display the keys in the dictionary\n",
    "keys = dict1.keys()\n",
    "print(\"keys: \", keys)\n",
    "\n",
    "# Display the values in the dictionary\n",
    "values = dict1.values()\n",
    "print(\"values: \", values)\n",
    "\n",
    "# Display the key-value pairs in the dictionary\n",
    "items = dict1.items()\n",
    "print(\"items: \", items)\n",
    "\n",
    "# Output:\n",
    "# keys:  dict_keys(['Sport', 'Teams'])\n",
    "# values:  dict_values(['Cricket', ['India', 'Australia', 'England', 'South Africa', 'Sri Lanka', 'New Zealand']])\n",
    "# items:  dict_items([('Sport', 'Cricket'), ('Teams', ['India', 'Australia', 'England', 'South Africa', 'Sri Lanka', 'New Zealand'])])\n",
    "In this example, the keys(), values(), and items() methods are used to display the keys, values, and key-value pairs in the dict1 dictionary, respectively. The resulting output is a view object that displays a list of all the keys, values, or key-value pairs in the dictionary.\n"
   ]
  }
 ],
 "metadata": {
  "kernelspec": {
   "display_name": "Python 3 (ipykernel)",
   "language": "python",
   "name": "python3"
  },
  "language_info": {
   "codemirror_mode": {
    "name": "ipython",
    "version": 3
   },
   "file_extension": ".py",
   "mimetype": "text/x-python",
   "name": "python",
   "nbconvert_exporter": "python",
   "pygments_lexer": "ipython3",
   "version": "3.10.8"
  }
 },
 "nbformat": 4,
 "nbformat_minor": 5
}
